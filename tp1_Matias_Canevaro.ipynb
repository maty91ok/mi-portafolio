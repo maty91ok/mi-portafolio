{
  "nbformat": 4,
  "nbformat_minor": 0,
  "metadata": {
    "colab": {
      "provenance": [],
      "mount_file_id": "1oWaXFUR_CfeAXcRNOB-QGLk74wsTuk42",
      "authorship_tag": "ABX9TyNqSxki3gShxVwaUHTEOVCB",
      "include_colab_link": true
    },
    "kernelspec": {
      "name": "python3",
      "display_name": "Python 3"
    },
    "language_info": {
      "name": "python"
    }
  },
  "cells": [
    {
      "cell_type": "markdown",
      "metadata": {
        "id": "view-in-github",
        "colab_type": "text"
      },
      "source": [
        "<a href=\"https://colab.research.google.com/github/maty91ok/mi-portafolio/blob/main/tp1_Matias_Canevaro.ipynb\" target=\"_parent\"><img src=\"https://colab.research.google.com/assets/colab-badge.svg\" alt=\"Open In Colab\"/></a>"
      ]
    },
    {
      "cell_type": "markdown",
      "source": [
        "    a) Ejecutar comandos de tu entorno (shell) para inspeccionar el archivo."
      ],
      "metadata": {
        "id": "Tn9hH8VveNE6"
      }
    },
    {
      "cell_type": "code",
      "execution_count": 1,
      "metadata": {
        "colab": {
          "base_uri": "https://localhost:8080/"
        },
        "id": "YL87OaNCbK3Q",
        "outputId": "34028cf1-eea4-42ca-a338-eb4172ba88bc"
      },
      "outputs": [
        {
          "output_type": "stream",
          "name": "stdout",
          "text": [
            "datos_clima.csv  drive\tsample_data\n"
          ]
        }
      ],
      "source": [
        "!ls"
      ]
    },
    {
      "cell_type": "markdown",
      "source": [
        "    b) Cargar el archivo en un DataFrame y mostrar el contenido"
      ],
      "metadata": {
        "id": "0h-B0R4IeRKR"
      }
    },
    {
      "cell_type": "code",
      "source": [
        "import pandas as pd\n",
        "\n",
        "# Cargar el archivo en un DataFrame\n",
        "df = pd.read_csv('datos_clima.csv')\n",
        "\n",
        "# Mostrar el contenido del DataFrame\n",
        "print(df)"
      ],
      "metadata": {
        "colab": {
          "base_uri": "https://localhost:8080/"
        },
        "id": "XSQNbAztcX3b",
        "outputId": "3d4ecbe3-9b21-479d-b105-e7e9ae060791"
      },
      "execution_count": 3,
      "outputs": [
        {
          "output_type": "stream",
          "name": "stdout",
          "text": [
            "         FECHA  HORA  Unnamed: 2  TEMP  HUM     PNM     DD    FF  \\\n",
            "0   19/03/2023     0         NaN   8.2   86  1515.0  190.0   9.0   \n",
            "1   19/03/2023     1         NaN   8.1   84  1516.0  200.0   9.0   \n",
            "2   19/03/2023     2         NaN   8.3   82  1515.0  190.0   9.0   \n",
            "3   19/03/2023     3         NaN   8.3   80  1514.0  200.0   7.0   \n",
            "4   19/03/2023     4         NaN   7.8   79  1512.0  200.0   9.0   \n",
            "5   19/03/2023     5         NaN   7.2   83  1509.0  200.0  11.0   \n",
            "6   19/03/2023     6         NaN   6.6   78  1511.0  200.0   9.0   \n",
            "7   19/03/2023     7         NaN   6.2   81  1510.0  190.0   9.0   \n",
            "8   19/03/2023     8         NaN   6.5   77  1507.0  180.0  13.0   \n",
            "9   19/03/2023     8         NaN   6.5   77  1507.0  180.0  13.0   \n",
            "10  19/03/2023     9         NaN   6.9   70  1507.0  200.0   9.0   \n",
            "11  19/03/2023    10         NaN  10.1   71  1509.0  190.0   6.0   \n",
            "12  19/03/2023    11         NaN  12.3   63  1512.0  990.0   6.0   \n",
            "13  19/03/2023    12         NaN  13.7   57  1511.0  290.0  11.0   \n",
            "14  19/03/2023    13         NaN  14.9   41  1507.0  300.0  13.0   \n",
            "15  19/03/2023    14         NaN  17.1   38  1501.0  320.0  19.0   \n",
            "16  19/03/2023    15         NaN  18.9   27  1499.0  320.0  20.0   \n",
            "17  19/03/2023    16         NaN  20.1   20  1494.0  300.0  24.0   \n",
            "18  19/03/2023    17         NaN  20.3   18  1493.0  300.0  33.0   \n",
            "19  19/03/2023    18         NaN  19.4   30  1489.0  280.0  30.0   \n",
            "20  19/03/2023    19         NaN  18.8   25  1488.0  300.0  28.0   \n",
            "21  19/03/2023    20         NaN  15.6   47  1491.0  300.0  17.0   \n",
            "22  19/03/2023    21         NaN  14.1   46  1499.0  140.0   6.0   \n",
            "23  19/03/2023    22         NaN  10.5   46  1506.0  200.0   9.0   \n",
            "24  19/03/2023    23         NaN   8.2   62  1513.0  110.0  13.0   \n",
            "25  19/03/2023     0         NaN  27.6   53  1007.2   50.0  26.0   \n",
            "26  19/03/2023     0         NaN  27.6   53  1007.2   50.0  26.0   \n",
            "27  19/03/2023     1         NaN  27.2   50  1006.9   20.0  28.0   \n",
            "28  19/03/2023     2         NaN  26.4   54  1006.6   20.0  26.0   \n",
            "29  19/03/2023     3         NaN   NaN   52  1006.1   20.0  31.0   \n",
            "30  19/03/2023     4         NaN   NaN   52  1005.8   20.0  30.0   \n",
            "31  19/03/2023     5         NaN  26.6   58  1005.9   20.0  17.0   \n",
            "32  19/03/2023     6         NaN  24.8   60  1006.6  340.0   9.0   \n",
            "33  19/03/2023     7         NaN  24.2   63  1007.2  360.0  11.0   \n",
            "34  19/03/2023     8         NaN  23.2   62  1008.5   20.0   6.0   \n",
            "35  19/03/2023     9         NaN  25.8   57  1009.2    0.0   0.0   \n",
            "36  19/03/2023    10         NaN  28.8   43  1007.6    NaN   NaN   \n",
            "37  19/03/2023    11         NaN  30.2   43  1009.6    NaN   9.0   \n",
            "38  19/03/2023    12         NaN  32.8   40  1008.4    NaN   4.0   \n",
            "39  19/03/2023    13         NaN  35.6   32  1006.9    NaN   9.0   \n",
            "40  19/03/2023    14         NaN  37.0   30  1005.7   20.0  11.0   \n",
            "41  19/03/2023    15         NaN  37.0   29  1004.8   20.0  17.0   \n",
            "42  19/03/2023    16         NaN  38.8   24  1003.4   20.0  11.0   \n",
            "43  19/03/2023    17         NaN  38.6   24  1002.9   20.0  17.0   \n",
            "44  19/03/2023    18         NaN  36.8   27  1003.2   20.0  24.0   \n",
            "45  19/03/2023    19         NaN  34.8   32  1004.0   20.0  26.0   \n",
            "46  19/03/2023    20         NaN  32.8   39  1004.9   20.0  20.0   \n",
            "47  19/03/2023    21         NaN  31.4   42  1005.2   20.0  22.0   \n",
            "48  19/03/2023    22         NaN  30.1   42  1006.1   20.0  19.0   \n",
            "49  19/03/2023    23         NaN  29.2   43  1006.7   20.0  15.0   \n",
            "\n",
            "     estacion met.  Unnamed: 9  Unnamed: 10  Unnamed: 11  NOMBRE  \n",
            "0   BARILOCHE_AERO         NaN          NaN          NaN     NaN  \n",
            "1   BARILOCHE_AERO         NaN          NaN          NaN     NaN  \n",
            "2   BARILOCHE_AERO         NaN          NaN          NaN     NaN  \n",
            "3   BARILOCHE_AERO         NaN          NaN          NaN     NaN  \n",
            "4   BARILOCHE_AERO         NaN          NaN          NaN     NaN  \n",
            "5   BARILOCHE_AERO         NaN          NaN          NaN     NaN  \n",
            "6   BARILOCHE_AERO         NaN          NaN          NaN     NaN  \n",
            "7   BARILOCHE_AERO         NaN          NaN          NaN     NaN  \n",
            "8   BARILOCHE_AERO         NaN          NaN          NaN     NaN  \n",
            "9   BARILOCHE_AERO         NaN          NaN          NaN     NaN  \n",
            "10  BARILOCHE_AERO         NaN          NaN          NaN     NaN  \n",
            "11  BARILOCHE_AERO         NaN          NaN          NaN     NaN  \n",
            "12  BARILOCHE_AERO         NaN          NaN          NaN     NaN  \n",
            "13  BARILOCHE_AERO         NaN          NaN          NaN     NaN  \n",
            "14  BARILOCHE_AERO         NaN          NaN          NaN     NaN  \n",
            "15  BARILOCHE_AERO         NaN          NaN          NaN     NaN  \n",
            "16  BARILOCHE_AERO         NaN          NaN          NaN     NaN  \n",
            "17  BARILOCHE_AERO         NaN          NaN          NaN     NaN  \n",
            "18  BARILOCHE_AERO         NaN          NaN          NaN     NaN  \n",
            "19  BARILOCHE_AERO         NaN          NaN          NaN     NaN  \n",
            "20  BARILOCHE_AERO         NaN          NaN          NaN     NaN  \n",
            "21  BARILOCHE_AERO         NaN          NaN          NaN     NaN  \n",
            "22  BARILOCHE_AERO         NaN          NaN          NaN     NaN  \n",
            "23  BARILOCHE_AERO         NaN          NaN          NaN     NaN  \n",
            "24  BARILOCHE_AERO         NaN          NaN          NaN     NaN  \n",
            "25  CATAMARCA_AERO         NaN          NaN          NaN     NaN  \n",
            "26  CATAMARCA_AERO         NaN          NaN          NaN     NaN  \n",
            "27  CATAMARCA_AERO         NaN          NaN          NaN     NaN  \n",
            "28  CATAMARCA_AERO         NaN          NaN          NaN     NaN  \n",
            "29  CATAMARCA_AERO         NaN          NaN          NaN     NaN  \n",
            "30  CATAMARCA_AERO         NaN          NaN          NaN     NaN  \n",
            "31  CATAMARCA_AERO         NaN          NaN          NaN     NaN  \n",
            "32  CATAMARCA_AERO         NaN          NaN          NaN     NaN  \n",
            "33  CATAMARCA_AERO         NaN          NaN          NaN     NaN  \n",
            "34  CATAMARCA_AERO         NaN          NaN          NaN     NaN  \n",
            "35  CATAMARCA_AERO         NaN          NaN          NaN     NaN  \n",
            "36  CATAMARCA_AERO         NaN          NaN          NaN     NaN  \n",
            "37  CATAMARCA_AERO         NaN          NaN          NaN     NaN  \n",
            "38  CATAMARCA_AERO         NaN          NaN          NaN     NaN  \n",
            "39  CATAMARCA_AERO         NaN          NaN          NaN     NaN  \n",
            "40  CATAMARCA_AERO         NaN          NaN          NaN     NaN  \n",
            "41  CATAMARCA_AERO         NaN          NaN          NaN     NaN  \n",
            "42  CATAMARCA_AERO         NaN          NaN          NaN     NaN  \n",
            "43  CATAMARCA_AERO         NaN          NaN          NaN     NaN  \n",
            "44  CATAMARCA_AERO         NaN          NaN          NaN     NaN  \n",
            "45  CATAMARCA_AERO         NaN          NaN          NaN     NaN  \n",
            "46  CATAMARCA_AERO         NaN          NaN          NaN     NaN  \n",
            "47  CATAMARCA_AERO         NaN          NaN          NaN     NaN  \n",
            "48  CATAMARCA_AERO         NaN          NaN          NaN     NaN  \n",
            "49  CATAMARCA_AERO         NaN          NaN          NaN     NaN  \n"
          ]
        }
      ]
    },
    {
      "cell_type": "markdown",
      "source": [
        "    c) Mostrar las columnas con su tipo de datos"
      ],
      "metadata": {
        "id": "mBl_X__ueUvp"
      }
    },
    {
      "cell_type": "code",
      "source": [
        "import pandas as pd\n",
        "\n",
        "# Cargar el archivo en un DataFrame\n",
        "df = pd.read_csv('datos_clima.csv')\n",
        "\n",
        "# Mostrar las columnas y sus tipos de datos\n",
        "print(df.dtypes)"
      ],
      "metadata": {
        "colab": {
          "base_uri": "https://localhost:8080/"
        },
        "id": "LUyXJ2hMc2EE",
        "outputId": "21103e96-7b5d-4c37-f60f-292c2ab234c0"
      },
      "execution_count": 4,
      "outputs": [
        {
          "output_type": "stream",
          "name": "stdout",
          "text": [
            "FECHA             object\n",
            "HORA               int64\n",
            "Unnamed: 2       float64\n",
            "TEMP             float64\n",
            "HUM                int64\n",
            "PNM              float64\n",
            "DD               float64\n",
            "FF               float64\n",
            "estacion met.     object\n",
            "Unnamed: 9       float64\n",
            "Unnamed: 10      float64\n",
            "Unnamed: 11      float64\n",
            "NOMBRE           float64\n",
            "dtype: object\n"
          ]
        }
      ]
    },
    {
      "cell_type": "markdown",
      "source": [
        "    d) Eliminar las columnas que tienen todos valores nulos (dropearlas)"
      ],
      "metadata": {
        "id": "HcPSB6R4eXUR"
      }
    },
    {
      "cell_type": "code",
      "source": [
        "import pandas as pd\n",
        "\n",
        "# Cargar el archivo en un DataFrame\n",
        "df = pd.read_csv('datos_clima.csv')\n",
        "\n",
        "# Eliminar las columnas que tienen todos sus valores nulos\n",
        "df = df.dropna(axis=1, how='all')\n",
        "\n",
        "# Mostrar el DataFrame resultante\n",
        "print(df)"
      ],
      "metadata": {
        "colab": {
          "base_uri": "https://localhost:8080/"
        },
        "id": "FOBM969qdXqy",
        "outputId": "6b2b466e-a277-40f2-df5b-e0bf5a147e8a"
      },
      "execution_count": 5,
      "outputs": [
        {
          "output_type": "stream",
          "name": "stdout",
          "text": [
            "         FECHA  HORA  TEMP  HUM     PNM     DD    FF   estacion met.\n",
            "0   19/03/2023     0   8.2   86  1515.0  190.0   9.0  BARILOCHE_AERO\n",
            "1   19/03/2023     1   8.1   84  1516.0  200.0   9.0  BARILOCHE_AERO\n",
            "2   19/03/2023     2   8.3   82  1515.0  190.0   9.0  BARILOCHE_AERO\n",
            "3   19/03/2023     3   8.3   80  1514.0  200.0   7.0  BARILOCHE_AERO\n",
            "4   19/03/2023     4   7.8   79  1512.0  200.0   9.0  BARILOCHE_AERO\n",
            "5   19/03/2023     5   7.2   83  1509.0  200.0  11.0  BARILOCHE_AERO\n",
            "6   19/03/2023     6   6.6   78  1511.0  200.0   9.0  BARILOCHE_AERO\n",
            "7   19/03/2023     7   6.2   81  1510.0  190.0   9.0  BARILOCHE_AERO\n",
            "8   19/03/2023     8   6.5   77  1507.0  180.0  13.0  BARILOCHE_AERO\n",
            "9   19/03/2023     8   6.5   77  1507.0  180.0  13.0  BARILOCHE_AERO\n",
            "10  19/03/2023     9   6.9   70  1507.0  200.0   9.0  BARILOCHE_AERO\n",
            "11  19/03/2023    10  10.1   71  1509.0  190.0   6.0  BARILOCHE_AERO\n",
            "12  19/03/2023    11  12.3   63  1512.0  990.0   6.0  BARILOCHE_AERO\n",
            "13  19/03/2023    12  13.7   57  1511.0  290.0  11.0  BARILOCHE_AERO\n",
            "14  19/03/2023    13  14.9   41  1507.0  300.0  13.0  BARILOCHE_AERO\n",
            "15  19/03/2023    14  17.1   38  1501.0  320.0  19.0  BARILOCHE_AERO\n",
            "16  19/03/2023    15  18.9   27  1499.0  320.0  20.0  BARILOCHE_AERO\n",
            "17  19/03/2023    16  20.1   20  1494.0  300.0  24.0  BARILOCHE_AERO\n",
            "18  19/03/2023    17  20.3   18  1493.0  300.0  33.0  BARILOCHE_AERO\n",
            "19  19/03/2023    18  19.4   30  1489.0  280.0  30.0  BARILOCHE_AERO\n",
            "20  19/03/2023    19  18.8   25  1488.0  300.0  28.0  BARILOCHE_AERO\n",
            "21  19/03/2023    20  15.6   47  1491.0  300.0  17.0  BARILOCHE_AERO\n",
            "22  19/03/2023    21  14.1   46  1499.0  140.0   6.0  BARILOCHE_AERO\n",
            "23  19/03/2023    22  10.5   46  1506.0  200.0   9.0  BARILOCHE_AERO\n",
            "24  19/03/2023    23   8.2   62  1513.0  110.0  13.0  BARILOCHE_AERO\n",
            "25  19/03/2023     0  27.6   53  1007.2   50.0  26.0  CATAMARCA_AERO\n",
            "26  19/03/2023     0  27.6   53  1007.2   50.0  26.0  CATAMARCA_AERO\n",
            "27  19/03/2023     1  27.2   50  1006.9   20.0  28.0  CATAMARCA_AERO\n",
            "28  19/03/2023     2  26.4   54  1006.6   20.0  26.0  CATAMARCA_AERO\n",
            "29  19/03/2023     3   NaN   52  1006.1   20.0  31.0  CATAMARCA_AERO\n",
            "30  19/03/2023     4   NaN   52  1005.8   20.0  30.0  CATAMARCA_AERO\n",
            "31  19/03/2023     5  26.6   58  1005.9   20.0  17.0  CATAMARCA_AERO\n",
            "32  19/03/2023     6  24.8   60  1006.6  340.0   9.0  CATAMARCA_AERO\n",
            "33  19/03/2023     7  24.2   63  1007.2  360.0  11.0  CATAMARCA_AERO\n",
            "34  19/03/2023     8  23.2   62  1008.5   20.0   6.0  CATAMARCA_AERO\n",
            "35  19/03/2023     9  25.8   57  1009.2    0.0   0.0  CATAMARCA_AERO\n",
            "36  19/03/2023    10  28.8   43  1007.6    NaN   NaN  CATAMARCA_AERO\n",
            "37  19/03/2023    11  30.2   43  1009.6    NaN   9.0  CATAMARCA_AERO\n",
            "38  19/03/2023    12  32.8   40  1008.4    NaN   4.0  CATAMARCA_AERO\n",
            "39  19/03/2023    13  35.6   32  1006.9    NaN   9.0  CATAMARCA_AERO\n",
            "40  19/03/2023    14  37.0   30  1005.7   20.0  11.0  CATAMARCA_AERO\n",
            "41  19/03/2023    15  37.0   29  1004.8   20.0  17.0  CATAMARCA_AERO\n",
            "42  19/03/2023    16  38.8   24  1003.4   20.0  11.0  CATAMARCA_AERO\n",
            "43  19/03/2023    17  38.6   24  1002.9   20.0  17.0  CATAMARCA_AERO\n",
            "44  19/03/2023    18  36.8   27  1003.2   20.0  24.0  CATAMARCA_AERO\n",
            "45  19/03/2023    19  34.8   32  1004.0   20.0  26.0  CATAMARCA_AERO\n",
            "46  19/03/2023    20  32.8   39  1004.9   20.0  20.0  CATAMARCA_AERO\n",
            "47  19/03/2023    21  31.4   42  1005.2   20.0  22.0  CATAMARCA_AERO\n",
            "48  19/03/2023    22  30.1   42  1006.1   20.0  19.0  CATAMARCA_AERO\n",
            "49  19/03/2023    23  29.2   43  1006.7   20.0  15.0  CATAMARCA_AERO\n"
          ]
        }
      ]
    },
    {
      "cell_type": "markdown",
      "source": [
        "    e) Identificar si hay filas duplicadas y quitarlas"
      ],
      "metadata": {
        "id": "P2DMS0-EeZZJ"
      }
    },
    {
      "cell_type": "code",
      "source": [
        "import pandas as pd\n",
        "\n",
        "# Cargar el archivo en un DataFrame\n",
        "df = pd.read_csv('datos_clima.csv')\n",
        "\n",
        "# Identificar filas duplicadas\n",
        "duplicated_rows = df[df.duplicated()]\n",
        "\n",
        "# Mostrar filas duplicadas\n",
        "print(\"Filas duplicadas:\")\n",
        "print(duplicated_rows)\n",
        "\n",
        "# Eliminar filas duplicadas\n",
        "df = df.drop_duplicates()\n",
        "\n",
        "# Mostrar el DataFrame resultante\n",
        "print(\"DataFrame después de eliminar duplicados:\")\n",
        "print(df)"
      ],
      "metadata": {
        "colab": {
          "base_uri": "https://localhost:8080/"
        },
        "id": "_R5dz-MDdhMb",
        "outputId": "f29bd599-02bb-44f2-939a-a6572db0c0b3"
      },
      "execution_count": 6,
      "outputs": [
        {
          "output_type": "stream",
          "name": "stdout",
          "text": [
            "Filas duplicadas:\n",
            "         FECHA  HORA  Unnamed: 2  TEMP  HUM     PNM     DD    FF  \\\n",
            "9   19/03/2023     8         NaN   6.5   77  1507.0  180.0  13.0   \n",
            "26  19/03/2023     0         NaN  27.6   53  1007.2   50.0  26.0   \n",
            "\n",
            "     estacion met.  Unnamed: 9  Unnamed: 10  Unnamed: 11  NOMBRE  \n",
            "9   BARILOCHE_AERO         NaN          NaN          NaN     NaN  \n",
            "26  CATAMARCA_AERO         NaN          NaN          NaN     NaN  \n",
            "DataFrame después de eliminar duplicados:\n",
            "         FECHA  HORA  Unnamed: 2  TEMP  HUM     PNM     DD    FF  \\\n",
            "0   19/03/2023     0         NaN   8.2   86  1515.0  190.0   9.0   \n",
            "1   19/03/2023     1         NaN   8.1   84  1516.0  200.0   9.0   \n",
            "2   19/03/2023     2         NaN   8.3   82  1515.0  190.0   9.0   \n",
            "3   19/03/2023     3         NaN   8.3   80  1514.0  200.0   7.0   \n",
            "4   19/03/2023     4         NaN   7.8   79  1512.0  200.0   9.0   \n",
            "5   19/03/2023     5         NaN   7.2   83  1509.0  200.0  11.0   \n",
            "6   19/03/2023     6         NaN   6.6   78  1511.0  200.0   9.0   \n",
            "7   19/03/2023     7         NaN   6.2   81  1510.0  190.0   9.0   \n",
            "8   19/03/2023     8         NaN   6.5   77  1507.0  180.0  13.0   \n",
            "10  19/03/2023     9         NaN   6.9   70  1507.0  200.0   9.0   \n",
            "11  19/03/2023    10         NaN  10.1   71  1509.0  190.0   6.0   \n",
            "12  19/03/2023    11         NaN  12.3   63  1512.0  990.0   6.0   \n",
            "13  19/03/2023    12         NaN  13.7   57  1511.0  290.0  11.0   \n",
            "14  19/03/2023    13         NaN  14.9   41  1507.0  300.0  13.0   \n",
            "15  19/03/2023    14         NaN  17.1   38  1501.0  320.0  19.0   \n",
            "16  19/03/2023    15         NaN  18.9   27  1499.0  320.0  20.0   \n",
            "17  19/03/2023    16         NaN  20.1   20  1494.0  300.0  24.0   \n",
            "18  19/03/2023    17         NaN  20.3   18  1493.0  300.0  33.0   \n",
            "19  19/03/2023    18         NaN  19.4   30  1489.0  280.0  30.0   \n",
            "20  19/03/2023    19         NaN  18.8   25  1488.0  300.0  28.0   \n",
            "21  19/03/2023    20         NaN  15.6   47  1491.0  300.0  17.0   \n",
            "22  19/03/2023    21         NaN  14.1   46  1499.0  140.0   6.0   \n",
            "23  19/03/2023    22         NaN  10.5   46  1506.0  200.0   9.0   \n",
            "24  19/03/2023    23         NaN   8.2   62  1513.0  110.0  13.0   \n",
            "25  19/03/2023     0         NaN  27.6   53  1007.2   50.0  26.0   \n",
            "27  19/03/2023     1         NaN  27.2   50  1006.9   20.0  28.0   \n",
            "28  19/03/2023     2         NaN  26.4   54  1006.6   20.0  26.0   \n",
            "29  19/03/2023     3         NaN   NaN   52  1006.1   20.0  31.0   \n",
            "30  19/03/2023     4         NaN   NaN   52  1005.8   20.0  30.0   \n",
            "31  19/03/2023     5         NaN  26.6   58  1005.9   20.0  17.0   \n",
            "32  19/03/2023     6         NaN  24.8   60  1006.6  340.0   9.0   \n",
            "33  19/03/2023     7         NaN  24.2   63  1007.2  360.0  11.0   \n",
            "34  19/03/2023     8         NaN  23.2   62  1008.5   20.0   6.0   \n",
            "35  19/03/2023     9         NaN  25.8   57  1009.2    0.0   0.0   \n",
            "36  19/03/2023    10         NaN  28.8   43  1007.6    NaN   NaN   \n",
            "37  19/03/2023    11         NaN  30.2   43  1009.6    NaN   9.0   \n",
            "38  19/03/2023    12         NaN  32.8   40  1008.4    NaN   4.0   \n",
            "39  19/03/2023    13         NaN  35.6   32  1006.9    NaN   9.0   \n",
            "40  19/03/2023    14         NaN  37.0   30  1005.7   20.0  11.0   \n",
            "41  19/03/2023    15         NaN  37.0   29  1004.8   20.0  17.0   \n",
            "42  19/03/2023    16         NaN  38.8   24  1003.4   20.0  11.0   \n",
            "43  19/03/2023    17         NaN  38.6   24  1002.9   20.0  17.0   \n",
            "44  19/03/2023    18         NaN  36.8   27  1003.2   20.0  24.0   \n",
            "45  19/03/2023    19         NaN  34.8   32  1004.0   20.0  26.0   \n",
            "46  19/03/2023    20         NaN  32.8   39  1004.9   20.0  20.0   \n",
            "47  19/03/2023    21         NaN  31.4   42  1005.2   20.0  22.0   \n",
            "48  19/03/2023    22         NaN  30.1   42  1006.1   20.0  19.0   \n",
            "49  19/03/2023    23         NaN  29.2   43  1006.7   20.0  15.0   \n",
            "\n",
            "     estacion met.  Unnamed: 9  Unnamed: 10  Unnamed: 11  NOMBRE  \n",
            "0   BARILOCHE_AERO         NaN          NaN          NaN     NaN  \n",
            "1   BARILOCHE_AERO         NaN          NaN          NaN     NaN  \n",
            "2   BARILOCHE_AERO         NaN          NaN          NaN     NaN  \n",
            "3   BARILOCHE_AERO         NaN          NaN          NaN     NaN  \n",
            "4   BARILOCHE_AERO         NaN          NaN          NaN     NaN  \n",
            "5   BARILOCHE_AERO         NaN          NaN          NaN     NaN  \n",
            "6   BARILOCHE_AERO         NaN          NaN          NaN     NaN  \n",
            "7   BARILOCHE_AERO         NaN          NaN          NaN     NaN  \n",
            "8   BARILOCHE_AERO         NaN          NaN          NaN     NaN  \n",
            "10  BARILOCHE_AERO         NaN          NaN          NaN     NaN  \n",
            "11  BARILOCHE_AERO         NaN          NaN          NaN     NaN  \n",
            "12  BARILOCHE_AERO         NaN          NaN          NaN     NaN  \n",
            "13  BARILOCHE_AERO         NaN          NaN          NaN     NaN  \n",
            "14  BARILOCHE_AERO         NaN          NaN          NaN     NaN  \n",
            "15  BARILOCHE_AERO         NaN          NaN          NaN     NaN  \n",
            "16  BARILOCHE_AERO         NaN          NaN          NaN     NaN  \n",
            "17  BARILOCHE_AERO         NaN          NaN          NaN     NaN  \n",
            "18  BARILOCHE_AERO         NaN          NaN          NaN     NaN  \n",
            "19  BARILOCHE_AERO         NaN          NaN          NaN     NaN  \n",
            "20  BARILOCHE_AERO         NaN          NaN          NaN     NaN  \n",
            "21  BARILOCHE_AERO         NaN          NaN          NaN     NaN  \n",
            "22  BARILOCHE_AERO         NaN          NaN          NaN     NaN  \n",
            "23  BARILOCHE_AERO         NaN          NaN          NaN     NaN  \n",
            "24  BARILOCHE_AERO         NaN          NaN          NaN     NaN  \n",
            "25  CATAMARCA_AERO         NaN          NaN          NaN     NaN  \n",
            "27  CATAMARCA_AERO         NaN          NaN          NaN     NaN  \n",
            "28  CATAMARCA_AERO         NaN          NaN          NaN     NaN  \n",
            "29  CATAMARCA_AERO         NaN          NaN          NaN     NaN  \n",
            "30  CATAMARCA_AERO         NaN          NaN          NaN     NaN  \n",
            "31  CATAMARCA_AERO         NaN          NaN          NaN     NaN  \n",
            "32  CATAMARCA_AERO         NaN          NaN          NaN     NaN  \n",
            "33  CATAMARCA_AERO         NaN          NaN          NaN     NaN  \n",
            "34  CATAMARCA_AERO         NaN          NaN          NaN     NaN  \n",
            "35  CATAMARCA_AERO         NaN          NaN          NaN     NaN  \n",
            "36  CATAMARCA_AERO         NaN          NaN          NaN     NaN  \n",
            "37  CATAMARCA_AERO         NaN          NaN          NaN     NaN  \n",
            "38  CATAMARCA_AERO         NaN          NaN          NaN     NaN  \n",
            "39  CATAMARCA_AERO         NaN          NaN          NaN     NaN  \n",
            "40  CATAMARCA_AERO         NaN          NaN          NaN     NaN  \n",
            "41  CATAMARCA_AERO         NaN          NaN          NaN     NaN  \n",
            "42  CATAMARCA_AERO         NaN          NaN          NaN     NaN  \n",
            "43  CATAMARCA_AERO         NaN          NaN          NaN     NaN  \n",
            "44  CATAMARCA_AERO         NaN          NaN          NaN     NaN  \n",
            "45  CATAMARCA_AERO         NaN          NaN          NaN     NaN  \n",
            "46  CATAMARCA_AERO         NaN          NaN          NaN     NaN  \n",
            "47  CATAMARCA_AERO         NaN          NaN          NaN     NaN  \n",
            "48  CATAMARCA_AERO         NaN          NaN          NaN     NaN  \n",
            "49  CATAMARCA_AERO         NaN          NaN          NaN     NaN  \n"
          ]
        }
      ]
    },
    {
      "cell_type": "markdown",
      "source": [
        "    f) Identificar si hay algunos valores nulos que hayan quedado"
      ],
      "metadata": {
        "id": "-DzTVWbmebbZ"
      }
    },
    {
      "cell_type": "code",
      "source": [
        "import pandas as pd\n",
        "\n",
        "# Cargar el archivo en un DataFrame\n",
        "df = pd.read_csv('datos_clima.csv')\n",
        "\n",
        "# Identificar valores nulos en el DataFrame\n",
        "null_values = df.isnull().sum()\n",
        "\n",
        "# Mostrar el conteo de valores nulos por columna\n",
        "print(\"Conteo de valores nulos por columna:\")\n",
        "print(null_values)"
      ],
      "metadata": {
        "colab": {
          "base_uri": "https://localhost:8080/"
        },
        "id": "C4fNllsJdooy",
        "outputId": "8f8c513e-0bb9-4d61-fcb1-1566f4fa7b21"
      },
      "execution_count": 7,
      "outputs": [
        {
          "output_type": "stream",
          "name": "stdout",
          "text": [
            "Conteo de valores nulos por columna:\n",
            "FECHA             0\n",
            "HORA              0\n",
            "Unnamed: 2       50\n",
            "TEMP              2\n",
            "HUM               0\n",
            "PNM               0\n",
            "DD                4\n",
            "FF                1\n",
            "estacion met.     0\n",
            "Unnamed: 9       50\n",
            "Unnamed: 10      50\n",
            "Unnamed: 11      50\n",
            "NOMBRE           50\n",
            "dtype: int64\n"
          ]
        }
      ]
    },
    {
      "cell_type": "markdown",
      "source": [
        "  g) En caso de existir, reemplazarlos por 0."
      ],
      "metadata": {
        "id": "_rQuR97Nedvw"
      }
    },
    {
      "cell_type": "code",
      "source": [
        "import pandas as pd\n",
        "\n",
        "# Cargar el archivo en un DataFrame\n",
        "df = pd.read_csv('datos_clima.csv')\n",
        "\n",
        "# Reemplazar los valores nulos por 0\n",
        "df = df.fillna(0)\n",
        "\n",
        "# Mostrar el DataFrame resultante\n",
        "print(\"DataFrame después de reemplazar valores nulos por 0:\")\n",
        "print(df)\n"
      ],
      "metadata": {
        "colab": {
          "base_uri": "https://localhost:8080/"
        },
        "id": "-N4SVtfld1BK",
        "outputId": "d430dcaf-6178-4cad-d622-989e0e78c921"
      },
      "execution_count": 8,
      "outputs": [
        {
          "output_type": "stream",
          "name": "stdout",
          "text": [
            "DataFrame después de reemplazar valores nulos por 0:\n",
            "         FECHA  HORA  Unnamed: 2  TEMP  HUM     PNM     DD    FF  \\\n",
            "0   19/03/2023     0         0.0   8.2   86  1515.0  190.0   9.0   \n",
            "1   19/03/2023     1         0.0   8.1   84  1516.0  200.0   9.0   \n",
            "2   19/03/2023     2         0.0   8.3   82  1515.0  190.0   9.0   \n",
            "3   19/03/2023     3         0.0   8.3   80  1514.0  200.0   7.0   \n",
            "4   19/03/2023     4         0.0   7.8   79  1512.0  200.0   9.0   \n",
            "5   19/03/2023     5         0.0   7.2   83  1509.0  200.0  11.0   \n",
            "6   19/03/2023     6         0.0   6.6   78  1511.0  200.0   9.0   \n",
            "7   19/03/2023     7         0.0   6.2   81  1510.0  190.0   9.0   \n",
            "8   19/03/2023     8         0.0   6.5   77  1507.0  180.0  13.0   \n",
            "9   19/03/2023     8         0.0   6.5   77  1507.0  180.0  13.0   \n",
            "10  19/03/2023     9         0.0   6.9   70  1507.0  200.0   9.0   \n",
            "11  19/03/2023    10         0.0  10.1   71  1509.0  190.0   6.0   \n",
            "12  19/03/2023    11         0.0  12.3   63  1512.0  990.0   6.0   \n",
            "13  19/03/2023    12         0.0  13.7   57  1511.0  290.0  11.0   \n",
            "14  19/03/2023    13         0.0  14.9   41  1507.0  300.0  13.0   \n",
            "15  19/03/2023    14         0.0  17.1   38  1501.0  320.0  19.0   \n",
            "16  19/03/2023    15         0.0  18.9   27  1499.0  320.0  20.0   \n",
            "17  19/03/2023    16         0.0  20.1   20  1494.0  300.0  24.0   \n",
            "18  19/03/2023    17         0.0  20.3   18  1493.0  300.0  33.0   \n",
            "19  19/03/2023    18         0.0  19.4   30  1489.0  280.0  30.0   \n",
            "20  19/03/2023    19         0.0  18.8   25  1488.0  300.0  28.0   \n",
            "21  19/03/2023    20         0.0  15.6   47  1491.0  300.0  17.0   \n",
            "22  19/03/2023    21         0.0  14.1   46  1499.0  140.0   6.0   \n",
            "23  19/03/2023    22         0.0  10.5   46  1506.0  200.0   9.0   \n",
            "24  19/03/2023    23         0.0   8.2   62  1513.0  110.0  13.0   \n",
            "25  19/03/2023     0         0.0  27.6   53  1007.2   50.0  26.0   \n",
            "26  19/03/2023     0         0.0  27.6   53  1007.2   50.0  26.0   \n",
            "27  19/03/2023     1         0.0  27.2   50  1006.9   20.0  28.0   \n",
            "28  19/03/2023     2         0.0  26.4   54  1006.6   20.0  26.0   \n",
            "29  19/03/2023     3         0.0   0.0   52  1006.1   20.0  31.0   \n",
            "30  19/03/2023     4         0.0   0.0   52  1005.8   20.0  30.0   \n",
            "31  19/03/2023     5         0.0  26.6   58  1005.9   20.0  17.0   \n",
            "32  19/03/2023     6         0.0  24.8   60  1006.6  340.0   9.0   \n",
            "33  19/03/2023     7         0.0  24.2   63  1007.2  360.0  11.0   \n",
            "34  19/03/2023     8         0.0  23.2   62  1008.5   20.0   6.0   \n",
            "35  19/03/2023     9         0.0  25.8   57  1009.2    0.0   0.0   \n",
            "36  19/03/2023    10         0.0  28.8   43  1007.6    0.0   0.0   \n",
            "37  19/03/2023    11         0.0  30.2   43  1009.6    0.0   9.0   \n",
            "38  19/03/2023    12         0.0  32.8   40  1008.4    0.0   4.0   \n",
            "39  19/03/2023    13         0.0  35.6   32  1006.9    0.0   9.0   \n",
            "40  19/03/2023    14         0.0  37.0   30  1005.7   20.0  11.0   \n",
            "41  19/03/2023    15         0.0  37.0   29  1004.8   20.0  17.0   \n",
            "42  19/03/2023    16         0.0  38.8   24  1003.4   20.0  11.0   \n",
            "43  19/03/2023    17         0.0  38.6   24  1002.9   20.0  17.0   \n",
            "44  19/03/2023    18         0.0  36.8   27  1003.2   20.0  24.0   \n",
            "45  19/03/2023    19         0.0  34.8   32  1004.0   20.0  26.0   \n",
            "46  19/03/2023    20         0.0  32.8   39  1004.9   20.0  20.0   \n",
            "47  19/03/2023    21         0.0  31.4   42  1005.2   20.0  22.0   \n",
            "48  19/03/2023    22         0.0  30.1   42  1006.1   20.0  19.0   \n",
            "49  19/03/2023    23         0.0  29.2   43  1006.7   20.0  15.0   \n",
            "\n",
            "     estacion met.  Unnamed: 9  Unnamed: 10  Unnamed: 11  NOMBRE  \n",
            "0   BARILOCHE_AERO         0.0          0.0          0.0     0.0  \n",
            "1   BARILOCHE_AERO         0.0          0.0          0.0     0.0  \n",
            "2   BARILOCHE_AERO         0.0          0.0          0.0     0.0  \n",
            "3   BARILOCHE_AERO         0.0          0.0          0.0     0.0  \n",
            "4   BARILOCHE_AERO         0.0          0.0          0.0     0.0  \n",
            "5   BARILOCHE_AERO         0.0          0.0          0.0     0.0  \n",
            "6   BARILOCHE_AERO         0.0          0.0          0.0     0.0  \n",
            "7   BARILOCHE_AERO         0.0          0.0          0.0     0.0  \n",
            "8   BARILOCHE_AERO         0.0          0.0          0.0     0.0  \n",
            "9   BARILOCHE_AERO         0.0          0.0          0.0     0.0  \n",
            "10  BARILOCHE_AERO         0.0          0.0          0.0     0.0  \n",
            "11  BARILOCHE_AERO         0.0          0.0          0.0     0.0  \n",
            "12  BARILOCHE_AERO         0.0          0.0          0.0     0.0  \n",
            "13  BARILOCHE_AERO         0.0          0.0          0.0     0.0  \n",
            "14  BARILOCHE_AERO         0.0          0.0          0.0     0.0  \n",
            "15  BARILOCHE_AERO         0.0          0.0          0.0     0.0  \n",
            "16  BARILOCHE_AERO         0.0          0.0          0.0     0.0  \n",
            "17  BARILOCHE_AERO         0.0          0.0          0.0     0.0  \n",
            "18  BARILOCHE_AERO         0.0          0.0          0.0     0.0  \n",
            "19  BARILOCHE_AERO         0.0          0.0          0.0     0.0  \n",
            "20  BARILOCHE_AERO         0.0          0.0          0.0     0.0  \n",
            "21  BARILOCHE_AERO         0.0          0.0          0.0     0.0  \n",
            "22  BARILOCHE_AERO         0.0          0.0          0.0     0.0  \n",
            "23  BARILOCHE_AERO         0.0          0.0          0.0     0.0  \n",
            "24  BARILOCHE_AERO         0.0          0.0          0.0     0.0  \n",
            "25  CATAMARCA_AERO         0.0          0.0          0.0     0.0  \n",
            "26  CATAMARCA_AERO         0.0          0.0          0.0     0.0  \n",
            "27  CATAMARCA_AERO         0.0          0.0          0.0     0.0  \n",
            "28  CATAMARCA_AERO         0.0          0.0          0.0     0.0  \n",
            "29  CATAMARCA_AERO         0.0          0.0          0.0     0.0  \n",
            "30  CATAMARCA_AERO         0.0          0.0          0.0     0.0  \n",
            "31  CATAMARCA_AERO         0.0          0.0          0.0     0.0  \n",
            "32  CATAMARCA_AERO         0.0          0.0          0.0     0.0  \n",
            "33  CATAMARCA_AERO         0.0          0.0          0.0     0.0  \n",
            "34  CATAMARCA_AERO         0.0          0.0          0.0     0.0  \n",
            "35  CATAMARCA_AERO         0.0          0.0          0.0     0.0  \n",
            "36  CATAMARCA_AERO         0.0          0.0          0.0     0.0  \n",
            "37  CATAMARCA_AERO         0.0          0.0          0.0     0.0  \n",
            "38  CATAMARCA_AERO         0.0          0.0          0.0     0.0  \n",
            "39  CATAMARCA_AERO         0.0          0.0          0.0     0.0  \n",
            "40  CATAMARCA_AERO         0.0          0.0          0.0     0.0  \n",
            "41  CATAMARCA_AERO         0.0          0.0          0.0     0.0  \n",
            "42  CATAMARCA_AERO         0.0          0.0          0.0     0.0  \n",
            "43  CATAMARCA_AERO         0.0          0.0          0.0     0.0  \n",
            "44  CATAMARCA_AERO         0.0          0.0          0.0     0.0  \n",
            "45  CATAMARCA_AERO         0.0          0.0          0.0     0.0  \n",
            "46  CATAMARCA_AERO         0.0          0.0          0.0     0.0  \n",
            "47  CATAMARCA_AERO         0.0          0.0          0.0     0.0  \n",
            "48  CATAMARCA_AERO         0.0          0.0          0.0     0.0  \n",
            "49  CATAMARCA_AERO         0.0          0.0          0.0     0.0  \n"
          ]
        }
      ]
    },
    {
      "cell_type": "markdown",
      "source": [
        "    h) Generar algunas medidas descriptivas en general"
      ],
      "metadata": {
        "id": "wr7LaEjgegQ5"
      }
    },
    {
      "cell_type": "code",
      "source": [
        "import pandas as pd\n",
        "\n",
        "# Cargar el archivo en un DataFrame\n",
        "df = pd.read_csv('datos_clima.csv')\n",
        "\n",
        "# Generar medidas descriptivas\n",
        "descriptive_stats = df.describe()\n",
        "\n",
        "# Mostrar las medidas descriptivas\n",
        "print(\"Medidas descriptivas del DataFrame:\")\n",
        "print(descriptive_stats)"
      ],
      "metadata": {
        "colab": {
          "base_uri": "https://localhost:8080/"
        },
        "id": "xiZ1TR9-d8kS",
        "outputId": "72f7698a-a1e6-4a11-c0d3-fee4fb192ab8"
      },
      "execution_count": 9,
      "outputs": [
        {
          "output_type": "stream",
          "name": "stdout",
          "text": [
            "Medidas descriptivas del DataFrame:\n",
            "            HORA  Unnamed: 2       TEMP        HUM          PNM          DD  \\\n",
            "count  50.000000         0.0  48.000000  50.000000    50.000000   46.000000   \n",
            "mean   11.200000         NaN  20.872917  51.440000  1255.832000  165.000000   \n",
            "std     7.056622         NaN  10.757753  19.580457   252.177625  171.435119   \n",
            "min     0.000000         NaN   6.200000  18.000000  1002.900000    0.000000   \n",
            "25%     5.250000         NaN   9.650000  38.250000  1006.600000   20.000000   \n",
            "50%    11.000000         NaN  20.200000  51.000000  1248.800000  185.000000   \n",
            "75%    17.000000         NaN  29.425000  63.000000  1507.000000  260.000000   \n",
            "max    23.000000         NaN  38.800000  86.000000  1516.000000  990.000000   \n",
            "\n",
            "              FF  Unnamed: 9  Unnamed: 10  Unnamed: 11  NOMBRE  \n",
            "count  49.000000         0.0          0.0          0.0     0.0  \n",
            "mean   15.428571         NaN          NaN          NaN     NaN  \n",
            "std     8.388981         NaN          NaN          NaN     NaN  \n",
            "min     0.000000         NaN          NaN          NaN     NaN  \n",
            "25%     9.000000         NaN          NaN          NaN     NaN  \n",
            "50%    13.000000         NaN          NaN          NaN     NaN  \n",
            "75%    22.000000         NaN          NaN          NaN     NaN  \n",
            "max    33.000000         NaN          NaN          NaN     NaN  \n"
          ]
        }
      ]
    }
  ]
}